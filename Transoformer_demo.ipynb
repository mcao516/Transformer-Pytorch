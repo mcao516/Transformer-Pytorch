{
 "cells": [
  {
   "cell_type": "code",
   "execution_count": 1,
   "metadata": {},
   "outputs": [],
   "source": [
    "import numpy as np\n",
    "import torch\n",
    "import torch.nn as nn\n",
    "import torch.nn.functional as F\n",
    "import copy\n",
    "import math\n",
    "import time\n",
    "import matplotlib.pyplot as plt"
   ]
  },
  {
   "cell_type": "markdown",
   "metadata": {},
   "source": [
    "#### Encoder-Decoder Architecture"
   ]
  },
  {
   "cell_type": "code",
   "execution_count": 2,
   "metadata": {},
   "outputs": [],
   "source": [
    "class EncoderDecoder(nn.Module):\n",
    "    \"\"\"A standard Encoder-Decoder architecture.\n",
    "    \"\"\"\n",
    "    def __init__(self, encoder, decoder, src_embed, tgt_embed, generator):\n",
    "        super(EncoderDecoder, self).__init__()\n",
    "        self.encoder = encoder\n",
    "        self.decoder = decoder\n",
    "        self.src_embed = src_embed\n",
    "        self.tgt_embed = tgt_embed\n",
    "        self.generator = generator\n",
    "        \n",
    "    def forward(self, src, tgt, src_mask, tgt_mask):\n",
    "        \"\"\"Take in and process masked src and target sequences.\n",
    "           \n",
    "           Args:\n",
    "              src: encoder input. [batch_size, encoder_seq_len]\n",
    "              tgt: decoder input. [batch_size, decoder_seq_len]\n",
    "              src_mask: encoder input mask. \n",
    "                  [batch_size, 1, encoder_seq_len]\n",
    "              tgt_mask: decoder input mask. \n",
    "                  [batch_size, decoder_seq_len, decoder_seq_len]\n",
    "        \"\"\"\n",
    "        return self.decode(self.encode(src, src_mask), src_mask, \n",
    "                            tgt, tgt_mask)\n",
    "    \n",
    "    def encode(self, src, src_mask):\n",
    "        return self.encoder(self.src_embed(src), src_mask)\n",
    "    \n",
    "    def decode(self, memory, src_mask, tgt, tgt_mask):\n",
    "        return self.decoder(self.tgt_embed(tgt), memory, src_mask, tgt_mask)"
   ]
  },
  {
   "cell_type": "code",
   "execution_count": 3,
   "metadata": {},
   "outputs": [],
   "source": [
    "class Generator(nn.Module):\n",
    "    \"\"\"Define standard linear + softmax generation step.\n",
    "    \"\"\"\n",
    "    def __init__(self, d_model, vocab_size):\n",
    "        super(Generator, self).__init__()\n",
    "        self.proj = nn.Linear(d_model, vocab_size)\n",
    "        \n",
    "    def forward(self, x):\n",
    "        return F.log_softmax(self.proj(x), dim=-1)"
   ]
  },
  {
   "cell_type": "markdown",
   "metadata": {},
   "source": [
    "#### Encoder Stacks"
   ]
  },
  {
   "cell_type": "code",
   "execution_count": 4,
   "metadata": {},
   "outputs": [],
   "source": [
    "def clones(module, N):\n",
    "    \"\"\"Clone N identical layers.\n",
    "    \"\"\"\n",
    "    return nn.ModuleList([copy.deepcopy(module) for _ in range(N)])"
   ]
  },
  {
   "cell_type": "code",
   "execution_count": 5,
   "metadata": {},
   "outputs": [],
   "source": [
    "class Encoder(nn.Module):\n",
    "    \"\"\"Define the encoer which is a stack of N identical blocks.\n",
    "    \"\"\"\n",
    "    def __init__(self, layer, N):\n",
    "        super(Encoder, self).__init__()\n",
    "        self.layers = clones(layer, N)\n",
    "        self.norm = LayerNorm(layer.size)\n",
    "        \n",
    "    def forward(self, x, mask):\n",
    "        \"\"\"Args:\n",
    "               x: [batch_size, encoder_seq_len, d_model]\n",
    "               mask: [batch_size, 1, encoder_seq_len]\n",
    "        \"\"\"\n",
    "        for layer in self.layers:\n",
    "            x = layer(x, mask)\n",
    "        return self.norm(x)"
   ]
  },
  {
   "cell_type": "code",
   "execution_count": 6,
   "metadata": {},
   "outputs": [],
   "source": [
    "class LayerNorm(nn.Module):\n",
    "    \"\"\"Construct a layer normalization module.\n",
    "    \"\"\"\n",
    "    def __init__(self, layer_size, eps=1e-6):\n",
    "        super(LayerNorm, self).__init__()\n",
    "        self.a_2 = nn.Parameter(torch.ones(layer_size))\n",
    "        self.b_2 = nn.Parameter(torch.zeros(layer_size))\n",
    "        self.eps = eps\n",
    "        \n",
    "    def forward(self, x):\n",
    "        mean = x.mean(-1, keepdim=True)\n",
    "        std = x.std(-1, keepdim=True)\n",
    "        return self.a_2 * (x - mean) / (std + self.eps) + self.b_2"
   ]
  },
  {
   "cell_type": "code",
   "execution_count": 7,
   "metadata": {},
   "outputs": [],
   "source": [
    "class SublayerConnection(nn.Module):\n",
    "    \"\"\"A residual connection followed by a layer norm.\n",
    "    \"\"\"\n",
    "    def __init__(self, size, dropout):\n",
    "        super(SublayerConnection, self).__init__()\n",
    "        self.norm = LayerNorm(size)\n",
    "        self.dropout = nn.Dropout(dropout)\n",
    "    \n",
    "    def forward(self, x, sublayer):\n",
    "        \"\"\"Apply residual connection to any sublayer with the same size.\n",
    "        \"\"\"\n",
    "        return x + self.dropout(sublayer(self.norm(x)))"
   ]
  },
  {
   "cell_type": "code",
   "execution_count": 8,
   "metadata": {},
   "outputs": [],
   "source": [
    "class EncoderLayer(nn.Module):\n",
    "    \"\"\"Encoder is made up of self-attention and feed forward network.\n",
    "    \"\"\"\n",
    "    def __init__(self, size, self_attn,  feed_forward, dropout):\n",
    "        super(EncoderLayer, self).__init__()\n",
    "        self.self_attn = self_attn\n",
    "        self.feed_forward = feed_forward\n",
    "        self.sublayers = clones(SublayerConnection(size, dropout), 2)\n",
    "        self.size = size\n",
    "        \n",
    "    def forward(self, x, mask):\n",
    "        \"\"\"Args:\n",
    "               x: [batch_size, encoder_seq_len, d_model]\n",
    "               mask: [batch_size, 1, encoder_seq_len]\n",
    "        \"\"\"\n",
    "        x = self.sublayers[0](x, lambda x: self.self_attn(x, x, x, mask))\n",
    "        return self.sublayers[1](x, self.feed_forward)"
   ]
  },
  {
   "cell_type": "markdown",
   "metadata": {},
   "source": [
    "#### Decoder Stacks"
   ]
  },
  {
   "cell_type": "code",
   "execution_count": 9,
   "metadata": {},
   "outputs": [],
   "source": [
    "class Decoder(nn.Module):\n",
    "    \"\"\"Generic N layer deocder with masking.\n",
    "    \"\"\"\n",
    "    def __init__(self, layer, N):\n",
    "        super(Decoder, self).__init__()\n",
    "        self.layers = clones(layer, N)\n",
    "        self.norm = LayerNorm(layer.size)\n",
    "        \n",
    "    def forward(self, x, memory, src_mask, tgt_mask):\n",
    "        \"\"\"Args:\n",
    "              x: dncoder embeddins. [batch_size, decoder_seq_len, d_model]\n",
    "              memory: [batch_size, encoder_seq_len, d_model]\n",
    "              src_mask: encoder input mask. \n",
    "                  [batch_size, 1, encoder_seq_len]\n",
    "              tgt_mask: decoder input mask. \n",
    "                  [batch_size, decoder_seq_len, decoder_seq_len]\n",
    "        \"\"\"\n",
    "        for layer in self.layers:\n",
    "            x = layer(x, memory, src_mask, tgt_mask)\n",
    "        return self.norm(x)"
   ]
  },
  {
   "cell_type": "code",
   "execution_count": 10,
   "metadata": {},
   "outputs": [],
   "source": [
    "class DecoderLayer(nn.Module):\n",
    "    \"\"\"Decoder is made of self-attention, src-attetion and feed forward.\n",
    "    \"\"\"\n",
    "    def __init__(self, size, self_attn, src_attn, feed_forward, dropout):\n",
    "        super(DecoderLayer, self).__init__()\n",
    "        self.size = size\n",
    "        self.self_attn = self_attn\n",
    "        self.src_attn = src_attn\n",
    "        self.feed_forward = feed_forward\n",
    "        self.sublayers = clones(SublayerConnection(size, dropout), 3)\n",
    "        \n",
    "    def forward(self, x, memory, src_mask, tgt_mask):\n",
    "        \"\"\"Args:\n",
    "              x: dncoder embeddins. [batch_size, decoder_seq_len, d_model]\n",
    "              memory: [batch_size, encoder_seq_len, d_model]\n",
    "              src_mask: encoder input mask. \n",
    "                  [batch_size, 1, encoder_seq_len]\n",
    "              tgt_mask: decoder input mask. \n",
    "                  [batch_size, decoder_seq_len, decoder_seq_len]\n",
    "        \"\"\"\n",
    "        m = memory\n",
    "        x = self.sublayers[0](x, lambda x: self.self_attn(x, x, x, tgt_mask))\n",
    "        x = self.sublayers[1](x, lambda x: self.src_attn(x, m, m, src_mask))\n",
    "        return self.sublayers[2](x, self.feed_forward)"
   ]
  },
  {
   "cell_type": "code",
   "execution_count": 11,
   "metadata": {},
   "outputs": [],
   "source": [
    "def subsequent_mask(size):\n",
    "    \"Mask out subsequent positions.\"\n",
    "    attn_shape = (1, size, size)\n",
    "    subsequent_mask = np.triu(np.ones(attn_shape), k=1).astype('uint8')\n",
    "    return torch.from_numpy(subsequent_mask) == 0"
   ]
  },
  {
   "cell_type": "code",
   "execution_count": 12,
   "metadata": {},
   "outputs": [],
   "source": [
    "# subsequent_mask(10)"
   ]
  },
  {
   "cell_type": "code",
   "execution_count": 13,
   "metadata": {},
   "outputs": [],
   "source": [
    "def attention(query, key, value, mask=None, dropout=None):\n",
    "    \"\"\"Scaled Dot Product Attention.\n",
    "    \n",
    "       Args:\n",
    "           query: [batch_size, head_num, seq_len, d_k]\n",
    "           key:   [batch_size, head_num, seq_len, d_k]\n",
    "           value: [batch_size, head_num, seq_len, d_k]\n",
    "           mask:  [batch_size, 1, 1, encoder_seq_len] or \n",
    "                  [batch_size, 1, decoder_seq_len, decoder_seq_len]\n",
    "    \"\"\"\n",
    "    d_k = query.size(-1)\n",
    "    # scores: [... , seq_len, seq_len]\n",
    "    scores = torch.matmul(query, key.transpose(-2, -1)) \\\n",
    "        / math.sqrt(d_k)\n",
    "\n",
    "    if mask is not None:\n",
    "        scores = scores.masked_fill(mask == 0, -1e9)\n",
    "    \n",
    "    p_attn = F.softmax(scores, dim = -1)\n",
    "    if dropout is not None:\n",
    "        p_attn = dropout(p_attn)\n",
    "    return torch.matmul(p_attn, value), p_attn"
   ]
  },
  {
   "cell_type": "code",
   "execution_count": 14,
   "metadata": {},
   "outputs": [],
   "source": [
    "class MultiHeadedAttention(nn.Module):\n",
    "    \"\"\"Inplement multi-head attention.\n",
    "    \"\"\"\n",
    "    def __init__(self, head_num, d_model, dropout=0.1):\n",
    "        \"\"\"Take in model size and number of heads.\n",
    "        \"\"\"\n",
    "        super(MultiHeadedAttention, self).__init__()\n",
    "        assert d_model % head_num == 0\n",
    "        # Notice here assuming that d_model == head_num * d_v and\n",
    "        # d_v == d_k\n",
    "        self.d_k = d_model // head_num\n",
    "        self.head_num = head_num\n",
    "        self.linears = clones(nn.Linear(d_model, d_model), 4)\n",
    "        self.attn = None\n",
    "        self.dropout = nn.Dropout(p=dropout)\n",
    "        \n",
    "    def forward(self, query, key, value, mask=None):\n",
    "        \"\"\"Implements the multi-head attention.\n",
    "            \n",
    "           Args:\n",
    "               query: [batch_size, seq_len, d_model]\n",
    "               key:   [batch_size, seq_len, d_model]\n",
    "               value: [batch_size, seq_len, d_model]\n",
    "               mask:  [batch_size, 1, 1, encoder_seq_len] or \n",
    "                      [batch_size, 1, decoder_seq_len, decoder_seq_len]\n",
    "        \"\"\"\n",
    "        if mask is not None:\n",
    "            mask = mask.unsqueeze(1)\n",
    "        nbatches = query.size(0) \n",
    "        \n",
    "        # query: [batch_size, head_num, seq_len, d_k]\n",
    "        query, key, value = [l(x).view(nbatches, -1, self.head_num, self.d_k).transpose(1, 2) \\\n",
    "                             for l, x in zip(self.linears, (query, key, value))]\n",
    "        \n",
    "        x, self.attn = attention(query, key, value, mask=mask, \n",
    "                                 dropout=self.dropout)\n",
    "        \n",
    "        # x: [batch_size, seq_len, d_model]\n",
    "        x = x.transpose(1, 2).contiguous().view(nbatches, -1, self.head_num * self.d_k)\n",
    "        return self.linears[-1](x)"
   ]
  },
  {
   "cell_type": "markdown",
   "metadata": {},
   "source": [
    "#### Position-wise Feed-forward Networks"
   ]
  },
  {
   "cell_type": "code",
   "execution_count": 15,
   "metadata": {},
   "outputs": [],
   "source": [
    "class PositionwiseFeedForward(nn.Module):\n",
    "    \"\"\"Implements FNN equation.\n",
    "    \"\"\"\n",
    "    def __init__(self, d_model, d_ff, dropout=0.1):\n",
    "        super(PositionwiseFeedForward, self).__init__()\n",
    "        self.w_1 = nn.Linear(d_model, d_ff)\n",
    "        self.w_2 = nn.Linear(d_ff, d_model)\n",
    "        self.dropout = nn.Dropout(dropout)\n",
    "        \n",
    "    def forward(self, x):\n",
    "        return self.w_2(self.dropout(F.relu(self.w_1(x))))"
   ]
  },
  {
   "cell_type": "markdown",
   "metadata": {},
   "source": [
    "#### Embeddings and Softmax"
   ]
  },
  {
   "cell_type": "code",
   "execution_count": 16,
   "metadata": {},
   "outputs": [],
   "source": [
    "class Embeddings(nn.Module):\n",
    "    def __init__(self, d_model, vocab_size):\n",
    "        super(Embeddings, self).__init__()\n",
    "        self.lut = nn.Embedding(vocab_size, d_model)\n",
    "        self.d_model = d_model\n",
    "    \n",
    "    def forward(self, x):\n",
    "        return self.lut(x) * math.sqrt(self.d_model)"
   ]
  },
  {
   "cell_type": "code",
   "execution_count": 17,
   "metadata": {},
   "outputs": [],
   "source": [
    "class PositionalEncoding(nn.Module):\n",
    "    \"\"\"Implement the PE function.\n",
    "    \"\"\"\n",
    "    def __init__(self, d_model, dropout, max_len=5000):\n",
    "        super(PositionalEncoding, self).__init__()\n",
    "        self.dropout = nn.Dropout(p=dropout)\n",
    "        \n",
    "        # Compute the positional encodings once in log space\n",
    "        pe = torch.zeros(max_len, d_model)\n",
    "        # position: [max_len, 1]\n",
    "        position = torch.arange(0., max_len).unsqueeze(1)\n",
    "        # div_term: [d_model/2]\n",
    "        div_term = torch.exp(torch.arange(0., d_model, 2) * \n",
    "                             -(math.log(10000.0) / d_model))\n",
    "        pe[:, 0::2] = torch.sin(position * div_term)\n",
    "        pe[:, 1::2] = torch.cos(position * div_term)\n",
    "        pe = pe.unsqueeze(0)\n",
    "        self.register_buffer('pe', pe)\n",
    "        \n",
    "    def forward(self, x):\n",
    "        x = x + self.pe.detach()[:, :x.size(1)]\n",
    "        return self.dropout(x)"
   ]
  },
  {
   "cell_type": "code",
   "execution_count": 18,
   "metadata": {},
   "outputs": [],
   "source": [
    "# plt.figure(figsize=(15, 5))\n",
    "# pe = PositionalEncoding(20, 0)\n",
    "# y = pe.forward(Variable(torch.zeros(1, 100, 20)))\n",
    "# plt.plot(np.arange(100), y[0, :, 4:8].data.numpy())\n",
    "# plt.legend([\"dim %d\"%p for p in [4,5,6,7]])"
   ]
  },
  {
   "cell_type": "markdown",
   "metadata": {},
   "source": [
    "#### Full Model"
   ]
  },
  {
   "cell_type": "code",
   "execution_count": 19,
   "metadata": {},
   "outputs": [],
   "source": [
    "def make_model(src_vocab, tgt_vocab, N=6, d_model=512, \n",
    "               d_ff=2048, h=8, dropout=0.1):\n",
    "    c = copy.deepcopy\n",
    "    attn = MultiHeadedAttention(h, d_model)\n",
    "    ff = PositionwiseFeedForward(d_model, d_ff, dropout)\n",
    "    position = PositionalEncoding(d_model, dropout)\n",
    "    model = EncoderDecoder(\n",
    "        Encoder(EncoderLayer(d_model, c(attn), c(ff), dropout), N),\n",
    "        Decoder(DecoderLayer(d_model, c(attn), c(attn), \n",
    "                             c(ff), dropout), N),\n",
    "        nn.Sequential(Embeddings(d_model, src_vocab), c(position)),\n",
    "        nn.Sequential(Embeddings(d_model, tgt_vocab), c(position)),\n",
    "        Generator(d_model, tgt_vocab)\n",
    "    )\n",
    "    \n",
    "    # This was important from their code. \n",
    "    # Initialize parameters with Glorot / fan_avg.\n",
    "    for p in model.parameters():\n",
    "        if p.dim() > 1:\n",
    "            nn.init.xavier_uniform_(p)\n",
    "    return model "
   ]
  },
  {
   "cell_type": "code",
   "execution_count": 20,
   "metadata": {},
   "outputs": [],
   "source": [
    "tmp_model = make_model(10, 10, 2)"
   ]
  },
  {
   "cell_type": "markdown",
   "metadata": {},
   "source": [
    "#### Batches and Training"
   ]
  },
  {
   "cell_type": "code",
   "execution_count": 21,
   "metadata": {},
   "outputs": [],
   "source": [
    "class Batch:\n",
    "    \"\"\"Object for holding a batch of data with mask during training.\n",
    "    \"\"\"\n",
    "    def __init__(self, src, trg=None, pad=0):\n",
    "        self.src = src # [batch_size, seq_len]\n",
    "        self.src_mask = (src != pad).unsqueeze(-2) # [batch_size, 1, seq_len]\n",
    "        \n",
    "        if trg is not None:\n",
    "            self.trg = trg[:, :-1]\n",
    "            self.trg_y = trg[:, 1:]      \n",
    "            self.trg_mask = self.make_std_mask(self.trg, pad)\n",
    "            self.ntokens = (self.trg_y != pad).sum().item()\n",
    "            \n",
    "    @staticmethod\n",
    "    def make_std_mask(tgt, pad):\n",
    "        \"\"\"Create a mask to hide padding and future words.\n",
    "        \"\"\"\n",
    "        tgt_mask = (tgt != pad).unsqueeze(-2)\n",
    "        tgt_mask = tgt_mask & subsequent_mask(tgt.size(-1)).type_as(tgt_mask.data)\n",
    "        return tgt_mask"
   ]
  },
  {
   "cell_type": "markdown",
   "metadata": {},
   "source": [
    "#### Training Loop"
   ]
  },
  {
   "cell_type": "code",
   "execution_count": 22,
   "metadata": {},
   "outputs": [],
   "source": [
    "def run_epoch(data_iter, model, loss_compute):\n",
    "    \"Standard Training and Logging Function\"\n",
    "    start = time.time()\n",
    "    total_tokens = 0\n",
    "    total_loss = 0\n",
    "    tokens = 0\n",
    "    for i, batch in enumerate(data_iter):\n",
    "        # out: [batch_size, seq_len, d_model]\n",
    "        out = model.forward(batch.src, batch.trg, \n",
    "                            batch.src_mask, batch.trg_mask)\n",
    "        loss = loss_compute(out, batch.trg_y, batch.ntokens)\n",
    "        total_loss += loss\n",
    "        total_tokens += batch.ntokens\n",
    "        tokens += batch.ntokens\n",
    "        if i % 50 == 1:\n",
    "            elapsed = time.time() - start\n",
    "            print(\"Epoch Step: %d Loss: %f Tokens per Sec: %f\" %\n",
    "                    (i, loss / batch.ntokens, tokens / elapsed))\n",
    "            start = time.time()\n",
    "            tokens = 0\n",
    "    return total_loss / total_tokens"
   ]
  },
  {
   "cell_type": "markdown",
   "metadata": {},
   "source": [
    "#### Training Data and Batching"
   ]
  },
  {
   "cell_type": "code",
   "execution_count": 23,
   "metadata": {},
   "outputs": [],
   "source": [
    "global max_src_in_batch, max_tgt_in_batch\n",
    "def batch_size_fn(new, count, sofar):\n",
    "    \"Keep augmenting batch and calculate total number of tokens + padding.\"\n",
    "    global max_src_in_batch, max_tgt_in_batch\n",
    "    if count == 1:\n",
    "        max_src_in_batch = 0\n",
    "        max_tgt_in_batch = 0\n",
    "    max_src_in_batch = max(max_src_in_batch, len(new.src))\n",
    "    max_tgt_in_batch = max(max_tgt_in_batch, len(new.trg) + 2)\n",
    "    src_elements = count * max_src_in_batch\n",
    "    tgt_elements = count * max_tgt_in_batch\n",
    "    return max(src_elements, tgt_elements)"
   ]
  },
  {
   "cell_type": "markdown",
   "metadata": {},
   "source": [
    "#### Optimizer"
   ]
  },
  {
   "cell_type": "code",
   "execution_count": 24,
   "metadata": {},
   "outputs": [],
   "source": [
    "class NoamOpt:\n",
    "    \"Optim wrapper that implements rate.\"\n",
    "    def __init__(self, model_size, factor, warmup, optimizer):\n",
    "        self.optimizer = optimizer\n",
    "        self._step = 0\n",
    "        self.warmup = warmup\n",
    "        self.factor = factor\n",
    "        self.model_size = model_size\n",
    "        self._rate = 0\n",
    "        \n",
    "    def step(self):\n",
    "        \"Update parameters and rate\"\n",
    "        self._step += 1\n",
    "        rate = self.rate()\n",
    "        for p in self.optimizer.param_groups:\n",
    "            p['lr'] = rate\n",
    "        self._rate = rate\n",
    "        self.optimizer.step()\n",
    "        \n",
    "    def rate(self, step = None):\n",
    "        \"Implement `lrate` above\"\n",
    "        if step is None:\n",
    "            step = self._step\n",
    "        return self.factor * \\\n",
    "            (self.model_size ** (-0.5) * \\\n",
    "            min(step ** (-0.5), step * self.warmup ** (-1.5)))\n",
    "        \n",
    "def get_std_opt(model):\n",
    "    return NoamOpt(model.src_embed[0].d_model, 2, 4000,\n",
    "            torch.optim.Adam(model.parameters(), lr=0, betas=(0.9, 0.98), eps=1e-9))"
   ]
  },
  {
   "cell_type": "code",
   "execution_count": 25,
   "metadata": {},
   "outputs": [],
   "source": [
    "# # Three settings of the lrate hyperparameters.\n",
    "# opts = [NoamOpt(512, 1, 4000, None), \n",
    "#         NoamOpt(512, 1, 8000, None),\n",
    "#         NoamOpt(256, 1, 4000, None)]\n",
    "# plt.plot(np.arange(1, 20000), [[opt.rate(i) for opt in opts] for i in range(1, 20000)])\n",
    "# plt.legend([\"512:4000\", \"512:8000\", \"256:4000\"])"
   ]
  },
  {
   "cell_type": "markdown",
   "metadata": {},
   "source": [
    "#### Label Smoothing"
   ]
  },
  {
   "cell_type": "code",
   "execution_count": 26,
   "metadata": {},
   "outputs": [],
   "source": [
    "class LabelSmoothing(nn.Module):\n",
    "    \"\"\"Implement label smoothing.\n",
    "    \"\"\"\n",
    "    def __init__(self, size, padding_idx, smoothing=0.0):\n",
    "        super(LabelSmoothing, self).__init__()\n",
    "        self.criterion = nn.KLDivLoss(size_average=False)\n",
    "        self.padding_idx = padding_idx\n",
    "        self.confidence = 1.0 - smoothing\n",
    "        self.smoothing = smoothing\n",
    "        self.size = size # vocal size\n",
    "        self.true_dist = None\n",
    "        \n",
    "    def forward(self, x, target):\n",
    "        \"\"\"Compute loss with label smoothing.\n",
    "        \n",
    "           Args:\n",
    "               x: reshaped softmax output. \n",
    "                   [batch_size * target_seq_len, vocab]\n",
    "               target: reshaped target labels.\n",
    "                   [batch_size * target_seq_len]\n",
    "        \"\"\"\n",
    "        assert x.size(1) == self.size\n",
    "        true_dist = x.clone().detach()\n",
    "        true_dist.fill_(self.smoothing / (self.size - 2))\n",
    "        true_dist.scatter_(1, target.detach().unsqueeze(1), self.confidence)\n",
    "        true_dist[:, self.padding_idx] = 0\n",
    "        # mask: [non_zero_num, 1]\n",
    "        mask = torch.nonzero(target.detach() == self.padding_idx)\n",
    "        if mask.sum() > 0:\n",
    "            true_dist.index_fill_(0, mask.squeeze(), 0.0)\n",
    "        self.true_dist = true_dist\n",
    "        return self.criterion(x, true_dist.clone().detach())"
   ]
  },
  {
   "cell_type": "code",
   "execution_count": 27,
   "metadata": {},
   "outputs": [],
   "source": [
    "# # Example of label smoothing.\n",
    "# crit = LabelSmoothing(5, 0, 0.4)\n",
    "# predict = torch.FloatTensor([[0, 0.2, 0.7, 0.1, 0],\n",
    "#                              [0, 0.2, 0.7, 0.1, 0], \n",
    "#                              [0, 0.2, 0.7, 0.1, 0]])\n",
    "# v = crit(Variable(predict.log()), \n",
    "#          Variable(torch.LongTensor([2, 1, 0])))\n",
    "\n",
    "# # Show the target distributions expected by the system.\n",
    "# plt.imshow(crit.true_dist)"
   ]
  },
  {
   "cell_type": "code",
   "execution_count": 28,
   "metadata": {},
   "outputs": [],
   "source": [
    "# crit = LabelSmoothing(5, 0, 0.1)\n",
    "# def loss(x):\n",
    "#     d = x + 3 * 1\n",
    "#     predict = torch.FloatTensor([[0, x / d, 1 / d, 1 / d, 1 / d],\n",
    "#                                  ])\n",
    "#     #print(predict)\n",
    "#     return crit(Variable(predict.log()),\n",
    "#                  Variable(torch.LongTensor([1]))).item()\n",
    "# plt.plot(np.arange(1, 100), [loss(x) for x in range(1, 100)])"
   ]
  },
  {
   "cell_type": "markdown",
   "metadata": {},
   "source": [
    "### A First Example"
   ]
  },
  {
   "cell_type": "markdown",
   "metadata": {},
   "source": [
    "#### Synthetic Data"
   ]
  },
  {
   "cell_type": "code",
   "execution_count": 29,
   "metadata": {},
   "outputs": [],
   "source": [
    "def data_gen(V, batch, nbatches):\n",
    "    \"\"\"Generate random data for a src-tgt copy task.\n",
    "    \"\"\"\n",
    "    for i in range(nbatches):\n",
    "        data = torch.from_numpy(np.random.randint(1, V, size=(batch, 10), dtype=np.int64))\n",
    "        data[:, 0] = 1\n",
    "        src = data\n",
    "        tgt = data.clone()\n",
    "        yield Batch(src, tgt, 0)"
   ]
  },
  {
   "cell_type": "markdown",
   "metadata": {},
   "source": [
    "#### Loss Computation"
   ]
  },
  {
   "cell_type": "code",
   "execution_count": 30,
   "metadata": {},
   "outputs": [],
   "source": [
    "class SimpleLossCompute:\n",
    "    \"\"\"A simple loss compute and train function.\n",
    "    \"\"\"\n",
    "    def __init__(self, generator, criterion, opt=None):\n",
    "        self.generator = generator\n",
    "        self.criterion = criterion # label smoothing\n",
    "        self.optimizer = opt\n",
    "    \n",
    "    def __call__(self, x, y, norm):\n",
    "        \"\"\"Comput loss, back propagate and updata parameters.\n",
    "        \n",
    "           x: last layer output, [batch_size, target_seq_len, d_model]\n",
    "           y: target, [batch_size, target_seq_len]\n",
    "           norm: scalar\n",
    "        \"\"\"\n",
    "        x = self.generator(x) # [batch_size, target_seq_len, vocab]\n",
    "        loss = self.criterion(x.contiguous().view(-1, x.size(-1)),\n",
    "                              y.contiguous().view(-1)) / norm\n",
    "        loss.backward()\n",
    "        if self.optimizer is not None:\n",
    "            self.optimizer.step()\n",
    "            self.optimizer.optimizer.zero_grad()\n",
    "        return loss.item() * norm"
   ]
  },
  {
   "cell_type": "markdown",
   "metadata": {},
   "source": [
    "#### Greedy Decoding"
   ]
  },
  {
   "cell_type": "code",
   "execution_count": 31,
   "metadata": {},
   "outputs": [
    {
     "name": "stderr",
     "output_type": "stream",
     "text": [
      "C:\\Users\\MengCao\\Anaconda3\\lib\\site-packages\\torch\\nn\\_reduction.py:49: UserWarning: size_average and reduce args will be deprecated, please use reduction='sum' instead.\n",
      "  warnings.warn(warning.format(ret))\n"
     ]
    },
    {
     "name": "stdout",
     "output_type": "stream",
     "text": [
      "start training...\n",
      "Epoch Step: 1 Loss: 3.607897 Tokens per Sec: 439.840720\n",
      "Epoch Step: 1 Loss: 2.282511 Tokens per Sec: 716.195140\n",
      "2.259409761428833\n",
      "Epoch Step: 1 Loss: 2.346815 Tokens per Sec: 536.613210\n",
      "Epoch Step: 1 Loss: 1.877462 Tokens per Sec: 730.693295\n",
      "1.857159423828125\n",
      "Epoch Step: 1 Loss: 2.025092 Tokens per Sec: 543.073308\n",
      "Epoch Step: 1 Loss: 1.276650 Tokens per Sec: 773.489744\n",
      "1.3382220983505249\n",
      "Epoch Step: 1 Loss: 1.482565 Tokens per Sec: 546.912451\n",
      "Epoch Step: 1 Loss: 0.972336 Tokens per Sec: 758.323730\n",
      "1.0542756557464599\n",
      "Epoch Step: 1 Loss: 1.266172 Tokens per Sec: 467.164296\n",
      "Epoch Step: 1 Loss: 0.879321 Tokens per Sec: 780.178920\n",
      "0.8990882158279419\n",
      "Epoch Step: 1 Loss: 0.965779 Tokens per Sec: 573.562894\n",
      "Epoch Step: 1 Loss: 0.550067 Tokens per Sec: 825.371178\n",
      "0.5777664184570312\n",
      "Epoch Step: 1 Loss: 0.698464 Tokens per Sec: 559.342458\n",
      "Epoch Step: 1 Loss: 0.343054 Tokens per Sec: 797.413884\n",
      "0.27760822474956515\n",
      "Epoch Step: 1 Loss: 0.456689 Tokens per Sec: 549.131364\n",
      "Epoch Step: 1 Loss: 0.237448 Tokens per Sec: 789.276410\n",
      "0.23255352675914764\n",
      "Epoch Step: 1 Loss: 0.362158 Tokens per Sec: 554.757816\n",
      "Epoch Step: 1 Loss: 0.204566 Tokens per Sec: 776.819666\n",
      "0.1675868362188339\n",
      "Epoch Step: 1 Loss: 0.295615 Tokens per Sec: 581.572486\n",
      "Epoch Step: 1 Loss: 0.130711 Tokens per Sec: 777.936822\n",
      "0.179108190536499\n"
     ]
    }
   ],
   "source": [
    "# Train the simple copy task.\n",
    "V = 17\n",
    "model = make_model(V, V, N=2) # define the model\n",
    "criterion = LabelSmoothing(size=V, padding_idx=0, smoothing=0.0) # define criterion\n",
    "model_opt = NoamOpt(model.src_embed[0].d_model, 1, 400, # define optimizer\n",
    "        torch.optim.Adam(model.parameters(), lr=0, betas=(0.9, 0.98), eps=1e-9))\n",
    "\n",
    "print('start training...')\n",
    "for epoch in range(10):\n",
    "    model.train()\n",
    "    run_epoch(data_gen(V, 30, 20), model, \n",
    "              SimpleLossCompute(model.generator, criterion, model_opt))\n",
    "    model.eval()\n",
    "    print(run_epoch(data_gen(V, 30, 5), model, \n",
    "                    SimpleLossCompute(model.generator, criterion, None)))"
   ]
  },
  {
   "cell_type": "code",
   "execution_count": 32,
   "metadata": {},
   "outputs": [],
   "source": [
    "def greedy_decode(model, src, src_mask, max_len, start_symbol):\n",
    "    \"\"\"Implement greedy decode method.\n",
    "    \"\"\"\n",
    "    memory = model.encode(src, src_mask)\n",
    "    batch_size = src.shape[0]\n",
    "    decode_seq = torch.ones(batch_size, 1).fill_(start_symbol).type_as(src.data)\n",
    "    \n",
    "    # start decoding\n",
    "    with torch.no_grad():\n",
    "        for i in range(max_len - 1):\n",
    "            tgt_mask = subsequent_mask(decode_seq.shape[1])\n",
    "            # output: [batch_size, seq_len, d_model]\n",
    "            output = model.decode(memory, src_mask, decode_seq, tgt_mask)\n",
    "            \n",
    "            # prob: [batch_size, vocab_size]\n",
    "            prob = model.generator(output[:, -1]) # the last word\n",
    "            # next_word: [batch_size]\n",
    "            _, next_word = torch.max(prob, dim=1)\n",
    "            next_word = next_word.unsqueeze(1)\n",
    "            # decode_seq: [batch_size, seq_len]\n",
    "            decode_seq = torch.cat([decode_seq, next_word], dim=1)\n",
    "    return decode_seq\n",
    "\n",
    "# def greedy_decode(model, src, src_mask, max_len, start_symbol):\n",
    "#     memory = model.encode(src, src_mask)\n",
    "#     ys = torch.ones(1, 1).fill_(start_symbol).type_as(src.data)\n",
    "#     for i in range(max_len-1):\n",
    "#         out = model.decode(memory, src_mask, \n",
    "#                            ys, \n",
    "#                            subsequent_mask(ys.size(1)).type_as(src.data))\n",
    "#         prob = model.generator(out[:, -1])\n",
    "#         _, next_word = torch.max(prob, dim = 1)\n",
    "#         next_word = next_word.data[0]\n",
    "#         ys = torch.cat([ys, \n",
    "#                         torch.ones(1, 1).type_as(src.data).fill_(next_word)], dim=1)\n",
    "#     return ys"
   ]
  },
  {
   "cell_type": "code",
   "execution_count": 37,
   "metadata": {},
   "outputs": [
    {
     "name": "stdout",
     "output_type": "stream",
     "text": [
      "tensor([[ 1,  2,  3,  4,  5,  6,  7,  8,  9, 10, 12,  9, 10,  9, 10,  8,  9, 15,\n",
      "          9, 14,  9, 11,  8,  9, 15,  9, 14,  9, 12,  9]])\n"
     ]
    }
   ],
   "source": [
    "model.eval()\n",
    "seq_len = 15\n",
    "src = torch.LongTensor([range(1, seq_len + 1)]) # [2, 10]\n",
    "src_mask = torch.ones(1, 1, seq_len)\n",
    "print(greedy_decode(model, src, src_mask, max_len=seq_len*2, start_symbol=1))"
   ]
  },
  {
   "cell_type": "markdown",
   "metadata": {},
   "source": [
    "### A Real Word Example"
   ]
  },
  {
   "cell_type": "markdown",
   "metadata": {},
   "source": [
    "#### Data Loading"
   ]
  },
  {
   "cell_type": "code",
   "execution_count": null,
   "metadata": {},
   "outputs": [],
   "source": [
    "# to be continued..."
   ]
  }
 ],
 "metadata": {
  "kernelspec": {
   "display_name": "Python 3",
   "language": "python",
   "name": "python3"
  },
  "language_info": {
   "codemirror_mode": {
    "name": "ipython",
    "version": 3
   },
   "file_extension": ".py",
   "mimetype": "text/x-python",
   "name": "python",
   "nbconvert_exporter": "python",
   "pygments_lexer": "ipython3",
   "version": "3.7.4"
  }
 },
 "nbformat": 4,
 "nbformat_minor": 4
}
